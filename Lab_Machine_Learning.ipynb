{
  "nbformat": 4,
  "nbformat_minor": 0,
  "metadata": {
    "colab": {
      "provenance": []
    },
    "kernelspec": {
      "name": "python3",
      "display_name": "Python 3"
    },
    "language_info": {
      "name": "python"
    }
  },
  "cells": [
    {
      "cell_type": "markdown",
      "source": [
        "## Sample Notebooks\n",
        "Here I am providing you some example notebooks/tutorials for further learning."
      ],
      "metadata": {
        "id": "Wv3dOYxwHYrK"
      }
    },
    {
      "cell_type": "code",
      "execution_count": null,
      "metadata": {
        "id": "c9kTAzoPbPfh"
      },
      "outputs": [],
      "source": []
    },
    {
      "cell_type": "markdown",
      "source": [
        "## An introduction to machine learning with scikit-learn\n",
        "https://scikit-learn.org/0.16/tutorial/basic/tutorial.html"
      ],
      "metadata": {
        "id": "klCYOU9rcIYi"
      }
    },
    {
      "cell_type": "markdown",
      "source": [
        "## Recognizing hand-written digits\n",
        "https://scikit-learn.org/0.16/auto_examples/classification/plot_digits_classification.html#example-classification-plot-digits-classification-py"
      ],
      "metadata": {
        "id": "flwh9BBkbXyY"
      }
    },
    {
      "cell_type": "code",
      "source": [
        "print(__doc__)\n",
        "\n",
        "# Author: Gael Varoquaux <gael dot varoquaux at normalesup dot org>\n",
        "# License: BSD 3 clause\n",
        "\n",
        "# Standard scientific Python imports\n",
        "import matplotlib.pyplot as plt\n",
        "\n",
        "# Import datasets, classifiers and performance metrics\n",
        "from sklearn import datasets, svm, metrics\n",
        "\n",
        "# The digits dataset\n",
        "digits = datasets.load_digits()\n",
        "\n",
        "# The data that we are interested in is made of 8x8 images of digits, let's\n",
        "# have a look at the first 3 images, stored in the `images` attribute of the\n",
        "# dataset.  If we were working from image files, we could load them using\n",
        "# pylab.imread.  Note that each image must have the same size. For these\n",
        "# images, we know which digit they represent: it is given in the 'target' of\n",
        "# the dataset.\n",
        "images_and_labels = list(zip(digits.images, digits.target))\n",
        "for index, (image, label) in enumerate(images_and_labels[:4]):\n",
        "    plt.subplot(2, 4, index + 1)\n",
        "    plt.axis('off')\n",
        "    plt.imshow(image, cmap=plt.cm.gray_r, interpolation='nearest')\n",
        "    plt.title('Training: %i' % label)\n",
        "\n",
        "# To apply a classifier on this data, we need to flatten the image, to\n",
        "# turn the data in a (samples, feature) matrix:\n",
        "n_samples = len(digits.images)\n",
        "data = digits.images.reshape((n_samples, -1))\n",
        "\n",
        "# Create a classifier: a support vector classifier\n",
        "classifier = svm.SVC(gamma=0.001)\n",
        "\n",
        "# We learn the digits on the first half of the digits\n",
        "classifier.fit(data[:n_samples // 2], digits.target[:n_samples // 2])\n",
        "\n",
        "# Now predict the value of the digit on the second half:\n",
        "expected = digits.target[n_samples // 2:]\n",
        "predicted = classifier.predict(data[n_samples // 2:])\n",
        "\n",
        "print(\"Classification report for classifier %s:\\n%s\\n\"\n",
        "      % (classifier, metrics.classification_report(expected, predicted)))\n",
        "print(\"Confusion matrix:\\n%s\" % metrics.confusion_matrix(expected, predicted))\n",
        "\n",
        "images_and_predictions = list(zip(digits.images[n_samples // 2:], predicted))\n",
        "for index, (image, prediction) in enumerate(images_and_predictions[:4]):\n",
        "    plt.subplot(2, 4, index + 5)\n",
        "    plt.axis('off')\n",
        "    plt.imshow(image, cmap=plt.cm.gray_r, interpolation='nearest')\n",
        "    plt.title('Prediction: %i' % prediction)\n",
        "\n",
        "plt.show()"
      ],
      "metadata": {
        "colab": {
          "base_uri": "https://localhost:8080/",
          "height": 906
        },
        "id": "5CRCrP2UbiyR",
        "outputId": "5d9e2244-ae38-4bbf-8284-814154a26bfa"
      },
      "execution_count": null,
      "outputs": [
        {
          "output_type": "stream",
          "name": "stdout",
          "text": [
            "Automatically created module for IPython interactive environment\n",
            "Classification report for classifier SVC(gamma=0.001):\n",
            "              precision    recall  f1-score   support\n",
            "\n",
            "           0       1.00      0.99      0.99        88\n",
            "           1       0.99      0.97      0.98        91\n",
            "           2       0.99      0.99      0.99        86\n",
            "           3       0.98      0.87      0.92        91\n",
            "           4       0.99      0.96      0.97        92\n",
            "           5       0.95      0.97      0.96        91\n",
            "           6       0.99      0.99      0.99        91\n",
            "           7       0.96      0.99      0.97        89\n",
            "           8       0.94      1.00      0.97        88\n",
            "           9       0.93      0.98      0.95        92\n",
            "\n",
            "    accuracy                           0.97       899\n",
            "   macro avg       0.97      0.97      0.97       899\n",
            "weighted avg       0.97      0.97      0.97       899\n",
            "\n",
            "\n",
            "Confusion matrix:\n",
            "[[87  0  0  0  1  0  0  0  0  0]\n",
            " [ 0 88  1  0  0  0  0  0  1  1]\n",
            " [ 0  0 85  1  0  0  0  0  0  0]\n",
            " [ 0  0  0 79  0  3  0  4  5  0]\n",
            " [ 0  0  0  0 88  0  0  0  0  4]\n",
            " [ 0  0  0  0  0 88  1  0  0  2]\n",
            " [ 0  1  0  0  0  0 90  0  0  0]\n",
            " [ 0  0  0  0  0  1  0 88  0  0]\n",
            " [ 0  0  0  0  0  0  0  0 88  0]\n",
            " [ 0  0  0  1  0  1  0  0  0 90]]\n"
          ]
        },
        {
          "output_type": "display_data",
          "data": {
            "text/plain": [
              "<Figure size 640x480 with 8 Axes>"
            ],
            "image/png": "[encoded data removed]"
          },
          "metadata": {}
        }
      ]
    },
    {
      "cell_type": "markdown",
      "source": [
        "##Exploring the iris data set - scikit-learn\n",
        "https://www.kaggle.com/code/kostasmar/exploring-the-iris-data-set-scikit-learn"
      ],
      "metadata": {
        "id": "Xm4Qd6l9eMFl"
      }
    },
    {
      "cell_type": "markdown",
      "source": [
        "## Image Classification Using Machine Learning-Support Vector Machine(SVM)\n",
        "Article: https://medium.com/analytics-vidhya/image-classification-using-machine-learning-support-vector-machine-svm-dc7a0ec92e01\n",
        "\n",
        "Code: https://github.com/ShanmukhVegi/Image-Classification/blob/main/Shanmukh_Classification.ipynb"
      ],
      "metadata": {
        "id": "LIhbcsKDe-4e"
      }
    },
    {
      "cell_type": "markdown",
      "source": [
        "## CatBoost Classifier: A Simple Guide for Everyone\n",
        "https://medium.com/@pwrxndr/catboost-classifier-a-simple-guide-for-everyone-48a2e3897251"
      ],
      "metadata": {
        "id": "YVpWWQ0sgFhW"
      }
    },
    {
      "cell_type": "code",
      "source": [],
      "metadata": {
        "id": "bVXND4szbjpD"
      },
      "execution_count": null,
      "outputs": []
    }
  ]
}